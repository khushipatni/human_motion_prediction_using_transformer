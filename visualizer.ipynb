{
 "cells": [
  {
   "cell_type": "code",
   "execution_count": 7,
   "metadata": {},
   "outputs": [],
   "source": [
    "import matplotlib.pyplot as plt\n",
    "import numpy as np\n",
    "from mpl_toolkits.mplot3d import Axes3D\n",
    "import imageio\n"
   ]
  },
  {
   "cell_type": "code",
   "execution_count": 8,
   "metadata": {},
   "outputs": [],
   "source": [
    "def show3Dpose(channels, ax, lcolor=\"#3498db\", rcolor=\"#e74c3c\", add_labels=False): # blue, orange\n",
    "  \"\"\"\n",
    "  Visualize a 3d skeleton\n",
    "\n",
    "  Args\n",
    "    channels: 96x1 vector. The pose to plot.\n",
    "    ax: matplotlib 3d axis to draw on\n",
    "    lcolor: color for left part of the body\n",
    "    rcolor: color for right part of the body\n",
    "    add_labels: whether to add coordinate labels\n",
    "  Returns\n",
    "    Nothing. Draws on ax.\n",
    "  \"\"\"\n",
    "\n",
    "  assert channels.size == 32*3, \"channels should have 96 entries, it has %d instead\" % channels.size\n",
    "  vals = np.reshape( channels, (32, -1) )\n",
    "\n",
    "  I   = np.array([1,2,3,1,7,8,1, 13,14,15,14,18,19,14,26,27])-1 # start points\n",
    "  J   = np.array([2,3,4,7,8,9,13,14,15,16,18,19,20,26,27,28])-1 # end points\n",
    "  LR  = np.array([1,1,1,0,0,0,0, 0, 0, 0, 0, 0, 0, 1, 1, 1], dtype=bool)\n",
    "\n",
    "  # Make connection matrix\n",
    "  for i in np.arange( len(I) ):\n",
    "    x, y, z = [np.array( [vals[I[i], j], vals[J[i], j]] ) for j in range(3)]\n",
    "    ax.plot(x, y, z, lw=2, c=lcolor if LR[i] else rcolor)\n",
    "\n",
    "  RADIUS = 750 # space around the subject\n",
    "  xroot, yroot, zroot = vals[0,0], vals[0,1], vals[0,2]\n",
    "  ax.set_xlim3d([-RADIUS+xroot, RADIUS+xroot])\n",
    "  ax.set_zlim3d([-RADIUS+zroot, RADIUS+zroot])\n",
    "  ax.set_ylim3d([-RADIUS+yroot, RADIUS+yroot])\n",
    "\n",
    "  if add_labels:\n",
    "    ax.set_xlabel(\"x\")\n",
    "    ax.set_ylabel(\"y\")\n",
    "    ax.set_zlabel(\"z\")\n",
    "\n",
    "  # Get rid of the ticks and tick labels\n",
    "  ax.set_xticks([])\n",
    "  ax.set_yticks([])\n",
    "  ax.set_zticks([])\n",
    "\n",
    "  ax.get_xaxis().set_ticklabels([])\n",
    "  ax.get_yaxis().set_ticklabels([])\n",
    "  ax.set_zticklabels([])"
   ]
  },
  {
   "cell_type": "code",
   "execution_count": 14,
   "metadata": {},
   "outputs": [
    {
     "name": "stderr",
     "output_type": "stream",
     "text": [
      "/var/folders/w0/pcnbsx215nb08cs5t4vk8jl40000gn/T/ipykernel_26798/3089134886.py:25: DeprecationWarning: Starting with ImageIO v3 the behavior of this function will switch to that of iio.v3.imread. To keep the current behavior (and make this warning disappear) use `import imageio.v2 as imageio` or call `imageio.v2.imread` directly.\n",
      "  images.append(imageio.imread(filename))\n"
     ]
    }
   ],
   "source": [
    "import cdflib\n",
    "import time\n",
    "import os\n",
    "cdf_file = cdflib.CDF(\"./data/h36m/S1/MyPoseFeatures/D3_Positions/Walking.cdf\")\n",
    "poses = cdf_file.varget(\"Pose\").squeeze()\n",
    "\n",
    "data = {}\n",
    "data[0] = poses\n",
    "\n",
    "filenames = []\n",
    "images = []\n",
    "\n",
    "for i in range(0, len(data[0]), 3):\n",
    "    filepath = './temp/fig_'+ str(i) + '.png'\n",
    "    filenames.append(filepath)\n",
    "    if not os.path.exists(filepath):\n",
    "        fig = plt.figure( figsize=(2, 2) )  \n",
    "        ax = plt.subplot(projection='3d')\n",
    "        plto = data[0][i]\n",
    "        show3Dpose(plto, ax)\n",
    "        plt.savefig('./temp/fig_'+ str(i))\n",
    "        plt.close()\n",
    "\n",
    "for filename in filenames:\n",
    "    images.append(imageio.imread(filename))\n",
    "    if os.path.exists(filename):\n",
    "        os.remove(filename)\n",
    "\n",
    "imageio.mimsave('./temp/movie.gif', images)\n"
   ]
  },
  {
   "cell_type": "code",
   "execution_count": null,
   "metadata": {},
   "outputs": [],
   "source": []
  }
 ],
 "metadata": {
  "kernelspec": {
   "display_name": "Python 3",
   "language": "python",
   "name": "python3"
  },
  "language_info": {
   "codemirror_mode": {
    "name": "ipython",
    "version": 3
   },
   "file_extension": ".py",
   "mimetype": "text/x-python",
   "name": "python",
   "nbconvert_exporter": "python",
   "pygments_lexer": "ipython3",
   "version": "3.11.8"
  }
 },
 "nbformat": 4,
 "nbformat_minor": 2
}
